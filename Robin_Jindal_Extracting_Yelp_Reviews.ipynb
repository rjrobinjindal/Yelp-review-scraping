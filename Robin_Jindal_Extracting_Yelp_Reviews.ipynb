{
 "cells": [
  {
   "cell_type": "markdown",
   "metadata": {},
   "source": [
    "# Instructions Provided"
   ]
  },
  {
   "cell_type": "code",
   "execution_count": 1,
   "metadata": {},
   "outputs": [],
   "source": [
    "# obtains all the reviews for a specific restaurant from Yelp.com.  \n",
    "# define a variable called yelp_restaurant_url and set it equal to:\n",
    "\n",
    "#\"https://www.yelp.com/biz/j-wata-temaki-bar-san-diego-2?osq=restaurant\"\n",
    "#objective : obtain all the reviews for this restaurant.\n",
    "#Specifically, you will need to output the reviews to a csv file with the following format\n",
    "#Each row is a unique review\n",
    "\n",
    "# Column 1: restaurant name\n",
    "# Column 2: reviewer’s name\n",
    "# Column 3: review text"
   ]
  },
  {
   "cell_type": "code",
   "execution_count": 2,
   "metadata": {},
   "outputs": [],
   "source": [
    "#This is the link to the Yelp restaurant review page for J Wata Temaki Bar in San Diego. \n",
    "yelp_restaurant_url = \"https://www.yelp.com/biz/j-wata-temaki-bar-san-diego-2?osq=restaurant\"\n",
    "\n",
    "#2nd Page: https://www.yelp.com/biz/j-wata-temaki-bar-san-diego-4?osq=restaurant&start=20\n",
    "#On 1st Page there are 20 reviews, so on 2nd page though the review # starts from 21, the url has the number 20 in it\n",
    "#For 1st page this url also works:\n",
    "# https://www.yelp.com/biz/j-wata-temaki-bar-san-diego-4?osq=restaurant&start=0\n",
    "\n",
    "# the link should still work even if we change the url to:\n",
    "# “https://www.yelp.com/biz/greyhouse-coffee-and-supply-west-lafayette-2”"
   ]
  },
  {
   "cell_type": "markdown",
   "metadata": {},
   "source": [
    "# Headless Browsing"
   ]
  },
  {
   "cell_type": "code",
   "execution_count": 3,
   "metadata": {},
   "outputs": [],
   "source": [
    "#Headless browsing\n",
    "import time\n",
    "from urllib.request import FancyURLopener  # This is library that helps us create the headless browser\n",
    "#choice: define a bunch of user agents, OS types, different browser with different OS\n",
    "#random browser, with different OS\n",
    "from random import choice #This library helps pick a random item from a list\n",
    "\n",
    "user_agents = [\n",
    "    'Mozilla/5.0 (Windows NT 6.1) AppleWebKit/537.36 (KHTML, like Gecko) Chrome/41.0.2228.0 Safari/537.36',\n",
    "    'Opera/9.80 (X11; Linux i686; Ubuntu/14.10) Presto/2.12.388 Version/12.16',\n",
    "    'Mozilla/5.0 (Windows; U; Windows NT 6.1; rv:2.2) Gecko/20110201',\n",
    "    'Mozilla/5.0 (Macintosh; Intel Mac OS X 10_9_3) AppleWebKit/537.75.14 (KHTML, like Gecko) Version/7.0.3 Safari/7046A194A',\n",
    "    'Mozilla/5.0 (Windows NT 10.0; Win64; x64) AppleWebKit/537.36 (KHTML, like Gecko) Chrome/42.0.2311.135 Safari/537.36 Edge/12.246'\n",
    "]\n",
    "\n",
    "# These are the usr agents for each of different browsers. Here we are using five, but it can be any number of user agents"
   ]
  },
  {
   "cell_type": "code",
   "execution_count": 4,
   "metadata": {},
   "outputs": [
    {
     "name": "stderr",
     "output_type": "stream",
     "text": [
      "/Users/robin/opt/anaconda3/lib/python3.7/site-packages/ipykernel_launcher.py:4: DeprecationWarning: MyOpener style of invoking requests is deprecated. Use newer urlopen functions/methods\n",
      "  after removing the cwd from sys.path.\n"
     ]
    }
   ],
   "source": [
    "class MyOpener(FancyURLopener, object):\n",
    "    version = choice(user_agents)\n",
    "\n",
    "myopener = MyOpener()\n",
    "page=myopener.open(yelp_restaurant_url)\n",
    "\n",
    "html = page.read().decode('utf-8')"
   ]
  },
  {
   "cell_type": "markdown",
   "metadata": {},
   "source": [
    "# Loop all reviews of all pages in a list"
   ]
  },
  {
   "cell_type": "code",
   "execution_count": 5,
   "metadata": {},
   "outputs": [],
   "source": [
    "#Initiate the list\n",
    "restaurant_name = []\n",
    "reviewer_name = []\n",
    "review_text = []"
   ]
  },
  {
   "cell_type": "code",
   "execution_count": 6,
   "metadata": {},
   "outputs": [
    {
     "name": "stderr",
     "output_type": "stream",
     "text": [
      "/Users/robin/opt/anaconda3/lib/python3.7/site-packages/ipykernel_launcher.py:90: DeprecationWarning: MyOpener style of invoking requests is deprecated. Use newer urlopen functions/methods\n"
     ]
    }
   ],
   "source": [
    "last_page = False\n",
    "while last_page == False:\n",
    "    \n",
    "    ######################################\n",
    "    #This script is used as deliminater to deliminate the reviews part\n",
    "    sub_html1_index = html.find('<script type=\"application/ld+json\">')\n",
    "    html1 = html[sub_html1_index:]\n",
    "\n",
    "    end_html1_index = html1.find(\"</script>\")\n",
    "\n",
    "    #This consolidated html has all the reviews\n",
    "    html2 = html1[:end_html1_index]\n",
    "    #html2\n",
    "\n",
    "    #Inner while loop\n",
    "    while html2.find('\\\"author\":') != -1: \n",
    "\n",
    "        #Part1: Find the review text\n",
    "\n",
    "        #We are running a while loop because we want to get everything in the page\n",
    "        #The review starts after description\n",
    "        review_start_index = html2.find('\\\"description\":')\n",
    "        #review_start_index\n",
    "\n",
    "        #16: the digits in description and quotes and 1 space\n",
    "        html_review = html2[review_start_index+16:]\n",
    "        #html_review\n",
    "\n",
    "        #the review ends when their is a name of author in the code\n",
    "        review_end_index = html_review.find('\"author\":')\n",
    "\n",
    "        #review end 3 places before the author word starts\n",
    "        review = html_review[:review_end_index-3]\n",
    "        #review    \n",
    "\n",
    "        #add the review in the review list\n",
    "        review_text.append(review) \n",
    "        #review_text\n",
    "\n",
    "        #Part2: Find the name of reviewer\n",
    "        #The remaining is the html from the end of the review till the end of the html\n",
    "        remaining = html_review[review_end_index:]\n",
    "\n",
    "        reviewer_name_start_index = 11\n",
    "\n",
    "        #Just at the end of the author name, there is a paranthesis\n",
    "        reviewer_name_end_index = remaining.find('\"}')\n",
    "\n",
    "        reviewer = remaining[reviewer_name_start_index: reviewer_name_end_index]\n",
    "\n",
    "        #add the name of the reviewer in the reviewer list\n",
    "        reviewer_name.append(reviewer)\n",
    "\n",
    "        #Part3: Truncate the html code\n",
    "        html2 = remaining[reviewer_name_end_index+1: ] \n",
    "\n",
    "        #After coming out of the while we can find the name of the restraunt from the remaining html2 code\n",
    "        #This is kept inside the while loop itself so that we can get the # of restraunts same as # of reviews\n",
    "        res_name_index = html2.find('\\\"name\":')\n",
    "        html3 = html2[res_name_index:]\n",
    "\n",
    "        res_name_index_end = html3.find(', \"address\":')\n",
    "        restaurant = html3[9:res_name_index_end-1]\n",
    "        restaurant_name.append(restaurant)\n",
    "\n",
    "    ##################################################\n",
    "    \n",
    "    guess_next_index = html.find('<script type=\"application/ld+json\">')\n",
    "    html_guess_next = html[:guess_next_index]\n",
    "    next_check = html_guess_next.find('<link rel=\"next\" href=\"')\n",
    "\n",
    "    if next_check == -1:\n",
    "            last_page = True\n",
    "    \n",
    "    else:\n",
    "        link_html = html_guess_next[next_check:]\n",
    "        link_start_index = link_html.find(\"https:\")\n",
    "        #link_start_index\n",
    "\n",
    "        link_end_index = link_html.find(\"\\\" />\\n\\n\")\n",
    "        #link_end_index\n",
    "\n",
    "        #Next link to go through\n",
    "        #Name the link as html so that the inner while loop will iterate\n",
    "        yelp_restaurant_url = link_html[link_start_index:link_end_index]\n",
    "        \n",
    "        class MyOpener(FancyURLopener, object):\n",
    "            version = choice(user_agents)\n",
    "\n",
    "        myopener = MyOpener()\n",
    "        page=myopener.open(yelp_restaurant_url)\n",
    "\n",
    "        html = page.read().decode('utf-8')      \n",
    "        last_page = False"
   ]
  },
  {
   "cell_type": "code",
   "execution_count": 7,
   "metadata": {},
   "outputs": [],
   "source": [
    "#Its correct because 1 review is in chinese\n",
    "#len(reviewer_name) = number of reviews = 259\n",
    "#len(review_text) = number of reviews = 259\n",
    "#len(restaurant_name) : 259 = number of reviews"
   ]
  },
  {
   "cell_type": "markdown",
   "metadata": {},
   "source": [
    "# Cleaning the Reviews"
   ]
  },
  {
   "cell_type": "code",
   "execution_count": 8,
   "metadata": {},
   "outputs": [],
   "source": [
    "#Place a for loop so as to replace all the \\\\n & \\t & \\n with \" \" (a space)\n",
    "for x in range(0, len(review_text)):\n",
    "    review_text[x] = review_text[x].replace(\"\\\\n\", \" \")\n",
    "    review_text[x] = review_text[x].replace(\"\\n\", \" \")\n",
    "    review_text[x] = review_text[x].replace(\"\\t\", \" \")"
   ]
  },
  {
   "cell_type": "markdown",
   "metadata": {},
   "source": [
    "# Exporting the data to .csv file"
   ]
  },
  {
   "cell_type": "code",
   "execution_count": 9,
   "metadata": {},
   "outputs": [],
   "source": [
    "#Create a write access enabled txt file named Mutual_Fund_CIK\n",
    "Output_File = open(\"Files_Directory/Edgar/Yelp_Reviews.csv\", \"w\")\n",
    "\n",
    "#Add the heading\n",
    "Output_File.write(\"Restaurant name\\tReviewer’s name\\tReview text\\n\")\n",
    "\n",
    "#for all the CIKs and corresponding Fund Names\n",
    "for x in range(0, len(reviewer_name)):\n",
    "    Output_File.write(restaurant_name[x] + '\\t' + reviewer_name[x] + '\\t' + review_text[x] + '\\t\\n')\n",
    "\n",
    "Output_File.close()"
   ]
  }
 ],
 "metadata": {
  "kernelspec": {
   "display_name": "Python 3",
   "language": "python",
   "name": "python3"
  },
  "language_info": {
   "codemirror_mode": {
    "name": "ipython",
    "version": 3
   },
   "file_extension": ".py",
   "mimetype": "text/x-python",
   "name": "python",
   "nbconvert_exporter": "python",
   "pygments_lexer": "ipython3",
   "version": "3.7.4"
  }
 },
 "nbformat": 4,
 "nbformat_minor": 2
}
